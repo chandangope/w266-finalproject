{
 "cells": [
  {
   "cell_type": "markdown",
   "metadata": {},
   "source": [
    "# w266: Final Project\n",
    "### Christopher Danicic, Robert Deng, Chandan Gope\n",
    "https://www.kaggle.com/c/jigsaw-toxic-comment-classification-challenge"
   ]
  },
  {
   "cell_type": "code",
   "execution_count": 47,
   "metadata": {
    "scrolled": true
   },
   "outputs": [],
   "source": [
    "#Load libraries\n",
    "import os, sys, re, json, time, gc, warnings\n",
    "import itertools, collections\n",
    "from importlib import reload\n",
    "import numpy as np\n",
    "import pandas as pd\n",
    "import scipy.stats as ss\n",
    "import matplotlib.pyplot as plt\n",
    "import matplotlib_venn as venn\n",
    "import matplotlib.gridspec as gridspec \n",
    "import seaborn as sns\n",
    "import string\n",
    "from PIL import Image\n",
    "color = sns.color_palette()\n",
    "\n",
    "#SciKit\n",
    "from sklearn import metrics\n",
    "from sklearn.metrics import classification_report\n",
    "from sklearn.feature_extraction.text import *\n",
    "from sklearn.pipeline import Pipeline\n",
    "from sklearn.grid_search import GridSearchCV\n",
    "from sklearn.multiclass import OneVsRestClassifier\n",
    "from sklearn.svm import LinearSVC\n",
    "from sklearn.tree import DecisionTreeClassifier\n",
    "from sklearn.linear_model import LogisticRegression\n",
    "from sklearn.naive_bayes import MultinomialNB\n",
    "\n",
    "#NLTK\n",
    "import nltk\n",
    "from nltk import pos_tag, pos_tag_sents\n",
    "from nltk.tokenize import word_tokenize, sent_tokenize\n",
    "from nltk.corpus import stopwords\n",
    "from nltk.corpus import wordnet\n",
    "from nltk.stem import WordNetLemmatizer\n",
    "from nltk.tokenize import TweetTokenizer  \n",
    "\n",
    "#settings\n",
    "start_time=time.time()\n",
    "color = sns.color_palette()\n",
    "sns.set_style(\"dark\")\n",
    "eng_stopwords = set(stopwords.words(\"english\"))\n",
    "warnings.filterwarnings(\"ignore\")\n",
    "\n",
    "lem = WordNetLemmatizer()\n",
    "tokenizer=TweetTokenizer()\n",
    "\n",
    "%matplotlib inline"
   ]
  },
  {
   "cell_type": "markdown",
   "metadata": {},
   "source": [
    "### Load data"
   ]
  },
  {
   "cell_type": "code",
   "execution_count": 8,
   "metadata": {
    "collapsed": true,
    "scrolled": true
   },
   "outputs": [],
   "source": [
    "#Load data\n",
    "train = pd.read_csv(\"~/w266-finalproject/data/train.csv\")\n",
    "test = pd.read_csv(\"~/w266-finalproject/data/test.csv\")"
   ]
  },
  {
   "cell_type": "code",
   "execution_count": 9,
   "metadata": {},
   "outputs": [
    {
     "name": "stdout",
     "output_type": "stream",
     "text": [
      "       : train : test\n",
      "rows   : 159571 : 153164\n",
      "perc   : 51    : 49\n"
     ]
    }
   ],
   "source": [
    "nrow_train=train.shape[0]\n",
    "nrow_test=test.shape[0]\n",
    "sum=nrow_train+nrow_test\n",
    "print(\"       : train : test\")\n",
    "print(\"rows   :\",nrow_train,\":\",nrow_test)\n",
    "print(\"perc   :\",round(nrow_train*100/sum),\"   :\",round(nrow_test*100/sum))"
   ]
  },
  {
   "cell_type": "markdown",
   "metadata": {},
   "source": [
    "There's roughly a 50/50 split between test and train. Later, we will further segment 15% of the train data as dev data"
   ]
  },
  {
   "cell_type": "markdown",
   "metadata": {},
   "source": [
    "### Exploratory Data Analysis"
   ]
  },
  {
   "cell_type": "markdown",
   "metadata": {},
   "source": [
    "The data came clean with no traces of N/A's"
   ]
  },
  {
   "cell_type": "code",
   "execution_count": 10,
   "metadata": {
    "scrolled": true
   },
   "outputs": [
    {
     "name": "stdout",
     "output_type": "stream",
     "text": [
      "Check for missing values in Train dataset\n",
      "id               0\n",
      "comment_text     0\n",
      "toxic            0\n",
      "severe_toxic     0\n",
      "obscene          0\n",
      "threat           0\n",
      "insult           0\n",
      "identity_hate    0\n",
      "dtype: int64\n",
      "Check for missing values in Test dataset\n",
      "id              0\n",
      "comment_text    0\n",
      "dtype: int64\n",
      "filling NA with \"unknown\"\n"
     ]
    }
   ],
   "source": [
    "print(\"Check for missing values in Train dataset\")\n",
    "null_check=train.isnull().sum()\n",
    "print(null_check)\n",
    "print(\"Check for missing values in Test dataset\")\n",
    "null_check=test.isnull().sum()\n",
    "print(null_check)\n",
    "print(\"filling NA with \\\"unknown\\\"\")\n",
    "train[\"comment_text\"].fillna(\"unknown\", inplace=True)\n",
    "test[\"comment_text\"].fillna(\"unknown\", inplace=True)"
   ]
  },
  {
   "cell_type": "markdown",
   "metadata": {},
   "source": [
    "Note that we have ~ 160K total comments, but ~143K clean comments, and ~35K tags, there must a heavy case of multilabeling."
   ]
  },
  {
   "cell_type": "code",
   "execution_count": 11,
   "metadata": {},
   "outputs": [
    {
     "name": "stdout",
     "output_type": "stream",
     "text": [
      "Total Comments: 159571\n",
      "Total Clean Comments: 143346\n",
      "Total tags: 35098\n"
     ]
    }
   ],
   "source": [
    "x=train.iloc[:,2:].sum()\n",
    "labels = [\"toxic\", \"severe_toxic\", \"obscene\", \"threat\", \"insult\", \"identity_hate\"]\n",
    "rowsums=train.iloc[:,2:].sum(axis=1)\n",
    "train['clean']=(rowsums==0)\n",
    "\n",
    "\n",
    "print(\"Total Comments:\", train.shape[0])\n",
    "print(\"Total Clean Comments:\", train.clean.sum())\n",
    "print(\"Total tags:\",x.sum())"
   ]
  },
  {
   "cell_type": "code",
   "execution_count": 12,
   "metadata": {
    "scrolled": true
   },
   "outputs": [
    {
     "data": {
      "image/png": "[encoded data removed]",
      "text/plain": [
       "<matplotlib.figure.Figure at 0x7f2a15c135c0>"
      ]
     },
     "metadata": {},
     "output_type": "display_data"
    }
   ],
   "source": [
    "#plot\n",
    "plt.figure(figsize=(8,4))\n",
    "ax= sns.barplot(x.index, x.values, alpha=0.8)\n",
    "plt.title(\"# per class\")\n",
    "plt.ylabel('# of Occurrences', fontsize=12)\n",
    "plt.xlabel('Type ', fontsize=12)\n",
    "#adding the text labels\n",
    "rects = ax.patches\n",
    "labels = x.values\n",
    "for rect, label in zip(rects, labels):\n",
    "    height = rect.get_height()\n",
    "    ax.text(rect.get_x() + rect.get_width()/2, height + 5, label, ha='center', va='bottom')\n",
    "\n",
    "plt.show()"
   ]
  },
  {
   "cell_type": "markdown",
   "metadata": {},
   "source": [
    "We might face class imbalance problems as toxicity is not evenly spread out across classes."
   ]
  },
  {
   "cell_type": "code",
   "execution_count": 13,
   "metadata": {
    "scrolled": false
   },
   "outputs": [
    {
     "data": {
      "image/png": "[encoded data removed]",
      "text/plain": [
       "<matplotlib.figure.Figure at 0x7f2a158821d0>"
      ]
     },
     "metadata": {},
     "output_type": "display_data"
    }
   ],
   "source": [
    "x=rowsums.value_counts()\n",
    "\n",
    "#plot\n",
    "plt.figure(figsize=(8,4))\n",
    "ax = sns.barplot(x.index, x.values, alpha=0.8,color=color[2])\n",
    "plt.title(\"Multiple tags per comment\")\n",
    "plt.ylabel('# of Occurrences', fontsize=12)\n",
    "plt.xlabel('# of tags ', fontsize=12)\n",
    "\n",
    "#adding the text labels\n",
    "rects = ax.patches\n",
    "labels = x.values\n",
    "for rect, label in zip(rects, labels):\n",
    "    height = rect.get_height()\n",
    "    ax.text(rect.get_x() + rect.get_width()/2, height + 5, label, ha='center', va='bottom')\n",
    "\n",
    "plt.show()"
   ]
  },
  {
   "cell_type": "markdown",
   "metadata": {},
   "source": [
    "~150K comments were only single labeled and 2-3 labeled commends were comments were the most common afterwards. Next we want to understand which labels were most commonly tagged together. A Corr plot using Pearson's correlation below gives us an imperfect, directional perspective as the tag data was binary. The most correlated tags were:\n",
    "\n",
    "-toxic <-> severe toxic\n",
    "\n",
    "-toxic <-> insult\n",
    "\n",
    "-obscene <-> insult\n",
    "\n",
    "Also threat comments had the least amount of connection with other tags was \"threat\", maybe requiring specific features compared to others to classify."
   ]
  },
  {
   "cell_type": "code",
   "execution_count": 14,
   "metadata": {
    "scrolled": true
   },
   "outputs": [
    {
     "data": {
      "text/plain": [
       "<matplotlib.axes._subplots.AxesSubplot at 0x7f2a19473320>"
      ]
     },
     "execution_count": 14,
     "metadata": {},
     "output_type": "execute_result"
    },
    {
     "data": {
      "image/png": "[encoded data removed]",
      "text/plain": [
       "<matplotlib.figure.Figure at 0x7f2a1f379d30>"
      ]
     },
     "metadata": {},
     "output_type": "display_data"
    }
   ],
   "source": [
    "temp_df = train.iloc[:,2:-1]\n",
    "corr=temp_df.corr()\n",
    "plt.figure(figsize=(6,6))\n",
    "sns.heatmap(corr,\n",
    "            xticklabels=corr.columns.values,\n",
    "            yticklabels=corr.columns.values, annot=True)"
   ]
  },
  {
   "cell_type": "markdown",
   "metadata": {},
   "source": [
    "#### Next, looking at a crosstab count of binary features reveals that all severe_toxic comments were also toxic_comments. We now question the necessity of severe_toxic and its severity. "
   ]
  },
  {
   "cell_type": "code",
   "execution_count": 15,
   "metadata": {
    "scrolled": true
   },
   "outputs": [
    {
     "data": {
      "text/html": [
       "<style  type=\"text/css\" >\n",
       "    #T_0cd27cde_3d44_11e8_9444_42010a8a0002row0_col1 {\n",
       "            background-color:  yellow;\n",
       "        }    #T_0cd27cde_3d44_11e8_9444_42010a8a0002row0_col3 {\n",
       "            background-color:  yellow;\n",
       "        }    #T_0cd27cde_3d44_11e8_9444_42010a8a0002row0_col5 {\n",
       "            background-color:  yellow;\n",
       "        }    #T_0cd27cde_3d44_11e8_9444_42010a8a0002row0_col7 {\n",
       "            background-color:  yellow;\n",
       "        }    #T_0cd27cde_3d44_11e8_9444_42010a8a0002row0_col9 {\n",
       "            background-color:  yellow;\n",
       "        }    #T_0cd27cde_3d44_11e8_9444_42010a8a0002row1_col0 {\n",
       "            background-color:  yellow;\n",
       "        }    #T_0cd27cde_3d44_11e8_9444_42010a8a0002row1_col2 {\n",
       "            background-color:  yellow;\n",
       "        }    #T_0cd27cde_3d44_11e8_9444_42010a8a0002row1_col4 {\n",
       "            background-color:  yellow;\n",
       "        }    #T_0cd27cde_3d44_11e8_9444_42010a8a0002row1_col6 {\n",
       "            background-color:  yellow;\n",
       "        }    #T_0cd27cde_3d44_11e8_9444_42010a8a0002row1_col8 {\n",
       "            background-color:  yellow;\n",
       "        }</style>  \n",
       "<table id=\"T_0cd27cde_3d44_11e8_9444_42010a8a0002\" > \n",
       "<thead>    <tr> \n",
       "        <th class=\"blank level0\" ></th> \n",
       "        <th class=\"col_heading level0 col0\" colspan=2>severe_toxic</th> \n",
       "        <th class=\"col_heading level0 col2\" colspan=2>obscene</th> \n",
       "        <th class=\"col_heading level0 col4\" colspan=2>threat</th> \n",
       "        <th class=\"col_heading level0 col6\" colspan=2>insult</th> \n",
       "        <th class=\"col_heading level0 col8\" colspan=2>identity_hate</th> \n",
       "    </tr>    <tr> \n",
       "        <th class=\"index_name level1\" >severe_toxic</th> \n",
       "        <th class=\"col_heading level1 col0\" >0</th> \n",
       "        <th class=\"col_heading level1 col1\" >1</th> \n",
       "        <th class=\"col_heading level1 col2\" >0</th> \n",
       "        <th class=\"col_heading level1 col3\" >1</th> \n",
       "        <th class=\"col_heading level1 col4\" >0</th> \n",
       "        <th class=\"col_heading level1 col5\" >1</th> \n",
       "        <th class=\"col_heading level1 col6\" >0</th> \n",
       "        <th class=\"col_heading level1 col7\" >1</th> \n",
       "        <th class=\"col_heading level1 col8\" >0</th> \n",
       "        <th class=\"col_heading level1 col9\" >1</th> \n",
       "    </tr>    <tr> \n",
       "        <th class=\"index_name level0\" >toxic</th> \n",
       "        <th class=\"blank\" ></th> \n",
       "        <th class=\"blank\" ></th> \n",
       "        <th class=\"blank\" ></th> \n",
       "        <th class=\"blank\" ></th> \n",
       "        <th class=\"blank\" ></th> \n",
       "        <th class=\"blank\" ></th> \n",
       "        <th class=\"blank\" ></th> \n",
       "        <th class=\"blank\" ></th> \n",
       "        <th class=\"blank\" ></th> \n",
       "        <th class=\"blank\" ></th> \n",
       "    </tr></thead> \n",
       "<tbody>    <tr> \n",
       "        <th id=\"T_0cd27cde_3d44_11e8_9444_42010a8a0002level0_row0\" class=\"row_heading level0 row0\" >0</th> \n",
       "        <td id=\"T_0cd27cde_3d44_11e8_9444_42010a8a0002row0_col0\" class=\"data row0 col0\" >144277</td> \n",
       "        <td id=\"T_0cd27cde_3d44_11e8_9444_42010a8a0002row0_col1\" class=\"data row0 col1\" >0</td> \n",
       "        <td id=\"T_0cd27cde_3d44_11e8_9444_42010a8a0002row0_col2\" class=\"data row0 col2\" >143754</td> \n",
       "        <td id=\"T_0cd27cde_3d44_11e8_9444_42010a8a0002row0_col3\" class=\"data row0 col3\" >523</td> \n",
       "        <td id=\"T_0cd27cde_3d44_11e8_9444_42010a8a0002row0_col4\" class=\"data row0 col4\" >144248</td> \n",
       "        <td id=\"T_0cd27cde_3d44_11e8_9444_42010a8a0002row0_col5\" class=\"data row0 col5\" >29</td> \n",
       "        <td id=\"T_0cd27cde_3d44_11e8_9444_42010a8a0002row0_col6\" class=\"data row0 col6\" >143744</td> \n",
       "        <td id=\"T_0cd27cde_3d44_11e8_9444_42010a8a0002row0_col7\" class=\"data row0 col7\" >533</td> \n",
       "        <td id=\"T_0cd27cde_3d44_11e8_9444_42010a8a0002row0_col8\" class=\"data row0 col8\" >144174</td> \n",
       "        <td id=\"T_0cd27cde_3d44_11e8_9444_42010a8a0002row0_col9\" class=\"data row0 col9\" >103</td> \n",
       "    </tr>    <tr> \n",
       "        <th id=\"T_0cd27cde_3d44_11e8_9444_42010a8a0002level0_row1\" class=\"row_heading level0 row1\" >1</th> \n",
       "        <td id=\"T_0cd27cde_3d44_11e8_9444_42010a8a0002row1_col0\" class=\"data row1 col0\" >13699</td> \n",
       "        <td id=\"T_0cd27cde_3d44_11e8_9444_42010a8a0002row1_col1\" class=\"data row1 col1\" >1595</td> \n",
       "        <td id=\"T_0cd27cde_3d44_11e8_9444_42010a8a0002row1_col2\" class=\"data row1 col2\" >7368</td> \n",
       "        <td id=\"T_0cd27cde_3d44_11e8_9444_42010a8a0002row1_col3\" class=\"data row1 col3\" >7926</td> \n",
       "        <td id=\"T_0cd27cde_3d44_11e8_9444_42010a8a0002row1_col4\" class=\"data row1 col4\" >14845</td> \n",
       "        <td id=\"T_0cd27cde_3d44_11e8_9444_42010a8a0002row1_col5\" class=\"data row1 col5\" >449</td> \n",
       "        <td id=\"T_0cd27cde_3d44_11e8_9444_42010a8a0002row1_col6\" class=\"data row1 col6\" >7950</td> \n",
       "        <td id=\"T_0cd27cde_3d44_11e8_9444_42010a8a0002row1_col7\" class=\"data row1 col7\" >7344</td> \n",
       "        <td id=\"T_0cd27cde_3d44_11e8_9444_42010a8a0002row1_col8\" class=\"data row1 col8\" >13992</td> \n",
       "        <td id=\"T_0cd27cde_3d44_11e8_9444_42010a8a0002row1_col9\" class=\"data row1 col9\" >1302</td> \n",
       "    </tr></tbody> \n",
       "</table> "
      ],
      "text/plain": [
       "<pandas.io.formats.style.Styler at 0x7f2a1945c748>"
      ]
     },
     "execution_count": 15,
     "metadata": {},
     "output_type": "execute_result"
    }
   ],
   "source": [
    "def highlight_min(data, color='yellow'):\n",
    "    '''\n",
    "    highlight the maximum in a Series or DataFrame\n",
    "    '''\n",
    "    attr = 'background-color: {}'.format(color)\n",
    "    if data.ndim == 1:  # Series from .apply(axis=0) or axis=1\n",
    "        is_min = data == data.min()\n",
    "        return [attr if v else '' for v in is_min]\n",
    "    else:  # from .apply(axis=None)\n",
    "        is_max = data == data.min().min()\n",
    "        return pd.DataFrame(np.where(is_min, attr, ''),\n",
    "                            index=data.index, columns=data.columns)\n",
    "    \n",
    "#Crosstab\n",
    "# Since technically a crosstab between all 6 classes is impossible to vizualize, lets take a \n",
    "# look at toxic with other tags\n",
    "main_col=\"toxic\"\n",
    "corr_mats=[]\n",
    "for other_col in temp_df.columns[1:]:\n",
    "    confusion_matrix = pd.crosstab(temp_df[main_col], temp_df[other_col])\n",
    "    corr_mats.append(confusion_matrix)\n",
    "out = pd.concat(corr_mats,axis=1,keys=temp_df.columns[1:])\n",
    "\n",
    "#cell highlighting\n",
    "out = out.style.apply(highlight_min,axis=0)\n",
    "out"
   ]
  },
  {
   "cell_type": "markdown",
   "metadata": {},
   "source": [
    "#### Example Comments"
   ]
  },
  {
   "cell_type": "code",
   "execution_count": 16,
   "metadata": {
    "scrolled": true
   },
   "outputs": [
    {
     "name": "stdout",
     "output_type": "stream",
     "text": [
      "toxic:\n",
      "Hi \n",
      "\n",
      "Im a fucking bitch.\n",
      "\n",
      "50.180.208.181\n"
     ]
    }
   ],
   "source": [
    "print(\"toxic:\")\n",
    "print(train[train.severe_toxic==1].iloc[3,1])"
   ]
  },
  {
   "cell_type": "code",
   "execution_count": 17,
   "metadata": {},
   "outputs": [
    {
     "name": "stdout",
     "output_type": "stream",
     "text": [
      "severe_toxic:\n",
      "What a motherfucking piece of crap those fuckheads for blocking us!\n"
     ]
    }
   ],
   "source": [
    "print(\"severe_toxic:\")\n",
    "print(train[train.severe_toxic==1].iloc[4,1])"
   ]
  },
  {
   "cell_type": "code",
   "execution_count": 18,
   "metadata": {
    "scrolled": true
   },
   "outputs": [
    {
     "name": "stdout",
     "output_type": "stream",
     "text": [
      "Threat:\n",
      "I think that your a Fagget get a oife and burn in Hell I hate you 'm sorry we cant have any more sex i'm running out of conndoms\n"
     ]
    }
   ],
   "source": [
    "print(\"Threat:\")\n",
    "print(train[train.threat==1].iloc[1,1])"
   ]
  },
  {
   "cell_type": "code",
   "execution_count": 19,
   "metadata": {},
   "outputs": [
    {
     "name": "stdout",
     "output_type": "stream",
     "text": [
      "Obscene:\n",
      "You are gay or antisemmitian? \n",
      "\n",
      "Archangel WHite Tiger\n",
      "\n",
      "Meow! Greetingshhh!\n",
      "\n",
      "Uh, there are two ways, why you do erased my comment about WW2, that holocaust was brutally slaying of Jews and not gays/Gypsys/Slavs/anyone...\n",
      "\n",
      "1 - If you are anti-semitian, than shave your head bald and go to the skinhead meetings!\n",
      "\n",
      "2 - If you doubt words of the Bible, that homosexuality is a deadly sin, make a pentagram tatoo on your forehead go to the satanistic masses with your gay pals!\n",
      "\n",
      "3 - First and last warning, you fucking gay - I won't appreciate if any more nazi shwain would write in my page! I don't wish to talk to you anymore!\n",
      "\n",
      "Beware of the Dark Side!\n"
     ]
    }
   ],
   "source": [
    "print(\"Obscene:\")\n",
    "print(train[train.obscene==1].iloc[1,1])"
   ]
  },
  {
   "cell_type": "code",
   "execution_count": 20,
   "metadata": {
    "scrolled": true
   },
   "outputs": [
    {
     "name": "stdout",
     "output_type": "stream",
     "text": [
      "identity_hate:\n",
      "u r a tw@ fuck off u gay boy.U r smelly.Fuck ur mum poopie\n"
     ]
    }
   ],
   "source": [
    "print(\"identity_hate:\")\n",
    "print(train[train.identity_hate==1].iloc[4,1])"
   ]
  },
  {
   "cell_type": "markdown",
   "metadata": {},
   "source": [
    "# Feature Generation"
   ]
  },
  {
   "cell_type": "markdown",
   "metadata": {},
   "source": [
    "We begin feature generation by merging our train and test datasets for vectorization"
   ]
  },
  {
   "cell_type": "code",
   "execution_count": 21,
   "metadata": {
    "scrolled": true
   },
   "outputs": [
    {
     "data": {
      "text/html": [
       "<div>\n",
       "<style>\n",
       "    .dataframe thead tr:only-child th {\n",
       "        text-align: right;\n",
       "    }\n",
       "\n",
       "    .dataframe thead th {\n",
       "        text-align: left;\n",
       "    }\n",
       "\n",
       "    .dataframe tbody tr th {\n",
       "        vertical-align: top;\n",
       "    }\n",
       "</style>\n",
       "<table border=\"1\" class=\"dataframe\">\n",
       "  <thead>\n",
       "    <tr style=\"text-align: right;\">\n",
       "      <th></th>\n",
       "      <th>id</th>\n",
       "      <th>comment_text</th>\n",
       "    </tr>\n",
       "  </thead>\n",
       "  <tbody>\n",
       "    <tr>\n",
       "      <th>0</th>\n",
       "      <td>0000997932d777bf</td>\n",
       "      <td>Explanation\\nWhy the edits made under my usern...</td>\n",
       "    </tr>\n",
       "    <tr>\n",
       "      <th>1</th>\n",
       "      <td>000103f0d9cfb60f</td>\n",
       "      <td>D'aww! He matches this background colour I'm s...</td>\n",
       "    </tr>\n",
       "    <tr>\n",
       "      <th>2</th>\n",
       "      <td>000113f07ec002fd</td>\n",
       "      <td>Hey man, I'm really not trying to edit war. It...</td>\n",
       "    </tr>\n",
       "    <tr>\n",
       "      <th>3</th>\n",
       "      <td>0001b41b1c6bb37e</td>\n",
       "      <td>\"\\nMore\\nI can't make any real suggestions on ...</td>\n",
       "    </tr>\n",
       "    <tr>\n",
       "      <th>4</th>\n",
       "      <td>0001d958c54c6e35</td>\n",
       "      <td>You, sir, are my hero. Any chance you remember...</td>\n",
       "    </tr>\n",
       "  </tbody>\n",
       "</table>\n",
       "</div>"
      ],
      "text/plain": [
       "                 id                                       comment_text\n",
       "0  0000997932d777bf  Explanation\\nWhy the edits made under my usern...\n",
       "1  000103f0d9cfb60f  D'aww! He matches this background colour I'm s...\n",
       "2  000113f07ec002fd  Hey man, I'm really not trying to edit war. It...\n",
       "3  0001b41b1c6bb37e  \"\\nMore\\nI can't make any real suggestions on ...\n",
       "4  0001d958c54c6e35  You, sir, are my hero. Any chance you remember..."
      ]
     },
     "execution_count": 21,
     "metadata": {},
     "output_type": "execute_result"
    }
   ],
   "source": [
    "merge=pd.concat([train.iloc[:,0:2],test.iloc[:,0:2]])\n",
    "df=merge.reset_index(drop=True)\n",
    "df.head()"
   ]
  },
  {
   "cell_type": "code",
   "execution_count": 22,
   "metadata": {
    "collapsed": true
   },
   "outputs": [],
   "source": [
    "df['count_sent']=df[\"comment_text\"].apply(lambda x: len(re.findall(\"\\n\",str(x)))+1)\n",
    "#Word count in each comment:\n",
    "df['count_word']=df[\"comment_text\"].apply(lambda x: len(str(x).split()))\n",
    "#Unique word count\n",
    "df['count_unique_word']=df[\"comment_text\"].apply(lambda x: len(set(str(x).split())))\n",
    "#Letter count\n",
    "df['count_letters']=df[\"comment_text\"].apply(lambda x: len(str(x)))\n",
    "#punctuation count\n",
    "df[\"count_punctuations\"] =df[\"comment_text\"].apply(lambda x: len([c for c in str(x) if c in string.punctuation]))\n",
    "#upper case words count\n",
    "df[\"count_words_upper\"] = df[\"comment_text\"].apply(lambda x: len([w for w in str(x).split() if w.isupper()]))\n",
    "#title case words count\n",
    "df[\"count_words_title\"] = df[\"comment_text\"].apply(lambda x: len([w for w in str(x).split() if w.istitle()]))\n",
    "#Number of stopwords\n",
    "df[\"count_stopwords\"] = df[\"comment_text\"].apply(lambda x: len([w for w in str(x).lower().split() if w in eng_stopwords]))\n",
    "#Average length of the words\n",
    "df[\"mean_word_len\"] = df[\"comment_text\"].apply(lambda x: np.mean([len(w) for w in str(x).split()]))"
   ]
  },
  {
   "cell_type": "code",
   "execution_count": 23,
   "metadata": {
    "collapsed": true
   },
   "outputs": [],
   "source": [
    "df['word_unique_percent']=df['count_unique_word']*100/df['count_word']\n",
    "#derived features\n",
    "#Punct percent in each comment:\n",
    "df['punct_percent']=df['count_punctuations']*100/df['count_word']"
   ]
  },
  {
   "cell_type": "code",
   "execution_count": 24,
   "metadata": {
    "collapsed": true
   },
   "outputs": [],
   "source": [
    "#Resplit to train and testb\n",
    "train_feats=df.iloc[0:len(train),]\n",
    "test_feats=df.iloc[len(train):,]\n",
    "#join the tags\n",
    "train_tags=train.iloc[:,2:]\n",
    "train_feats=pd.concat([train_feats,train_tags],axis=1)"
   ]
  },
  {
   "cell_type": "code",
   "execution_count": 163,
   "metadata": {
    "scrolled": true
   },
   "outputs": [
    {
     "data": {
      "image/png": "[encoded data removed]",
      "text/plain": [
       "<matplotlib.figure.Figure at 0x7f96448e0c50>"
      ]
     },
     "metadata": {},
     "output_type": "display_data"
    }
   ],
   "source": [
    "train_feats['count_sent'].loc[train_feats['count_sent']>10] = 10 \n",
    "plt.figure(figsize=(12,6))\n",
    "## sentenses\n",
    "plt.subplot(121)\n",
    "plt.suptitle(\"Are longer comments more toxic?\",fontsize=20)\n",
    "sns.violinplot(y='count_sent',x='clean', data=train_feats,split=True)\n",
    "plt.xlabel('Clean?', fontsize=12)\n",
    "plt.ylabel('# of sentences', fontsize=12)\n",
    "plt.title(\"Number of sentences in each comment\", fontsize=15)\n",
    "# words\n",
    "train_feats['count_word'].loc[train_feats['count_word']>200] = 200\n",
    "plt.subplot(122)\n",
    "sns.violinplot(y='count_word',x='clean', data=train_feats,split=True,inner=\"quart\")\n",
    "plt.xlabel('Clean?', fontsize=12)\n",
    "plt.ylabel('# of words', fontsize=12)\n",
    "plt.title(\"Number of words in each comment\", fontsize=15)\n",
    "\n",
    "plt.show()"
   ]
  },
  {
   "cell_type": "markdown",
   "metadata": {},
   "source": [
    "Long sentences or more words do not seem to be a significant indicator of toxicity.\n",
    "\n",
    "Chart desc: Violin plot is an alternative to the traditional box plot. The inner markings show the percentiles while the width of the \"violin\" shows the volume of comments at that level/instance."
   ]
  },
  {
   "cell_type": "code",
   "execution_count": 25,
   "metadata": {
    "scrolled": true
   },
   "outputs": [
    {
     "data": {
      "image/png": "[encoded data removed]",
      "text/plain": [
       "<matplotlib.figure.Figure at 0x7f2a1f58c860>"
      ]
     },
     "metadata": {},
     "output_type": "display_data"
    }
   ],
   "source": [
    "train_feats['count_unique_word'].loc[train_feats['count_unique_word']>200] = 200\n",
    "#prep for split violin plots\n",
    "#For the desired plots , the data must be in long format\n",
    "temp_df = pd.melt(train_feats, value_vars=['count_word', 'count_unique_word'], id_vars='clean')\n",
    "#spammers - comments with less than 3b0% unique words\n",
    "spammers=train_feats[train_feats['word_unique_percent']<30]\n",
    "\n",
    "plt.figure(figsize=(16,12))\n",
    "plt.suptitle(\"What's so unique ?\",fontsize=20)\n",
    "gridspec.GridSpec(2,2)\n",
    "plt.subplot2grid((2,2),(0,0))\n",
    "sns.violinplot(x='variable', y='value', hue='clean', data=temp_df,split=True,inner='quartile')\n",
    "plt.title(\"Absolute wordcount and unique words count\")\n",
    "plt.xlabel('Feature', fontsize=12)\n",
    "plt.ylabel('Count', fontsize=12)\n",
    "\n",
    "plt.subplot2grid((2,2),(0,1))\n",
    "plt.title(\"Percentage of unique words of total words in comment\")\n",
    "#sns.boxplot(x='clean', y='word_unique_percent', data=train_feats)\n",
    "ax=sns.kdeplot(train_feats[train_feats.clean == 0].word_unique_percent, label=\"Bad\",shade=True,color='r')\n",
    "ax=sns.kdeplot(train_feats[train_feats.clean == 1].word_unique_percent, label=\"Clean\")\n",
    "plt.legend()\n",
    "plt.ylabel('Number of occurances', fontsize=12)\n",
    "plt.xlabel('Percent unique words', fontsize=12)\n",
    "\n",
    "x=spammers.iloc[:,-7:].sum()\n",
    "plt.subplot2grid((2,2),(1,0),colspan=2)\n",
    "plt.title(\"Count of comments with low(<30%) unique words\",fontsize=15)\n",
    "ax=sns.barplot(x=x.index, y=x.values,color=color[3])\n",
    "\n",
    "#adding the text labels\n",
    "rects = ax.patches\n",
    "labels = x.values\n",
    "for rect, label in zip(rects, labels):\n",
    "    height = rect.get_height()\n",
    "    ax.text(rect.get_x() + rect.get_width()/2, height + 5, label, ha='center', va='bottom')\n",
    "\n",
    "plt.xlabel('Threat class', fontsize=12)\n",
    "plt.ylabel('# of comments', fontsize=12)\n",
    "plt.show()"
   ]
  },
  {
   "cell_type": "markdown",
   "metadata": {},
   "source": [
    "### Word count VS unique word count:\n",
    "There are noticeable shifts in the mean of both word count and unique word count across clean and toxic comments.\n",
    "   * Chart desc: The first chart is a split violin chart. It is a variation of the traditional box chart/violin chart which allows us to split the violin in the middle based on a categorical variable.\n",
    "   \n",
    "### Unique word count percent:\n",
    "There is a bulge near the 0-10% mark which indicates a large number of toxic comments which contain very little variety of words.\n",
    "   * Chart desc: The second chart is an overlay of two kernel density estimation plots of percentage of unique words out of all the words in the comment, done for both clean and toxic comments\n",
    "\n",
    "Even though the number of clean comments dominates the dataset(~90%), there are only 75 clean comments that are spam, which makes it a powerful indicator of a toxic comment.\n",
    "\n",
    "# Spammers are more toxic!\n",
    "People who don't use a rich, diverse vocabulary (< 30% unique vocabular). Let's take a look at some clean and toxic spam messages"
   ]
  },
  {
   "cell_type": "code",
   "execution_count": 26,
   "metadata": {
    "scrolled": true
   },
   "outputs": [
    {
     "name": "stdout",
     "output_type": "stream",
     "text": [
      "Clean Spam example:\n",
      "Towns and Villages in Ark-La-Tex]]\n",
      " Cities, boroughs and towns in the Republic of Ireland\n",
      " Cities, boroughs, and townships along the Susquehanna River\n",
      " Cities, towns and villages in Alborz Province\n",
      " Cities, towns and villages in Ardabil Province\n",
      " Cities, towns and villages in Bhutan\n",
      " Cities, towns and villages in Bushehr Province\n",
      " Cities, towns and villages in Chaharmahal and Bakhtiari Province\n",
      " Cities, towns and villages in Cyprus\n",
      " Cities, towns and villages in Dutch Limburg\n",
      " Cities, towns and villages in East Azerbaijan Province\n",
      " Cities, towns and villages in East Timor\n",
      " Cities, towns and villages in Fars Province\n",
      " Cities, towns and villages in Flevoland\n",
      " Cities, towns and villages in Friesland\n",
      " Cities, towns and villages in Gelderland\n",
      " Cities, towns and villages in Gilan Province\n",
      " Cities, towns and villages in Golestan Province\n",
      " Cities, towns and villages in Groningen\n",
      " Cities, towns and villages in Hamadan Province\n",
      " Cities, towns and villages in Hormozgan Province\n",
      " Cities, towns and villages in Ilam Province\n",
      " Cities, towns and villages in Isfahan Province\n",
      " Cities, towns and villages in Kerman Province\n",
      " Cities, towns and villages in Kermanshah Province\n",
      " Cities, towns and villages in Khuzestan Province\n",
      " Cities, towns and villages in Kohgiluyeh and Boyer-Ahmad Province\n",
      " Cities, towns and villages in Kurdistan Province\n",
      " Cities, towns and villages in Lorestan Province\n",
      " Cities, towns and villages in Markazi Province\n",
      " Cities, towns and villages in Mazandaran Province\n",
      " Cities, towns and villages in North Brabant\n",
      " Cities, towns and villages in North Holland\n",
      " Cities, towns and villages in North Khorasan Province\n",
      " Cities, towns and villages in Overijssel\n",
      " Cities, towns and villages in Qazvin Province\n",
      " Cities, towns and villages in Qom Province\n",
      " Cities, towns and villages in Razavi Khorasan Province\n",
      " Cities, towns and villages in Saint Vincent and the Grenadines\n",
      " Cities, towns and villages in Samoa\n",
      " Cities, towns and villages in Semnan Province\n",
      " Cities, towns and villages in Sistan and Baluchestan Province\n",
      " Cities, towns and villages in South Holland\n",
      " Cities, towns and villages in South Khorasan Province\n",
      " Cities, towns and villages in Tehran Province\n",
      " Cities, towns and villages in Turkmenistan\n",
      " Cities, towns and villages in Utrecht\n",
      " Cities, towns and villages in Vojvodina\n",
      " Cities, towns and villages in West Azerbaijan Province\n",
      " Cities, towns and villages in Yazd Province\n",
      " Cities, towns and villages in Zanjan Province\n",
      " Cities, towns and villages in Zeeland\n",
      " Cities, towns and villages in the Maldives\n",
      " Cities, towns and villages in the Solomon Islands\n",
      " Cities, towns, and villages in Békés county\n",
      " Cities, towns, and villages in Louisiana\n"
     ]
    }
   ],
   "source": [
    "print(\"Clean Spam example:\")\n",
    "print(spammers[spammers.clean==1].comment_text.iloc[1])"
   ]
  },
  {
   "cell_type": "code",
   "execution_count": 27,
   "metadata": {
    "scrolled": true
   },
   "outputs": [
    {
     "name": "stdout",
     "output_type": "stream",
     "text": [
      "Toxic Spam example:\n",
      "User:NHRHS2010 is a homo like mitt romney is. \n",
      "User:NHRHS2010 is a homo like mitt romney is.\n",
      " User:Enigmaman is a homo like mitt romney is. \n",
      "User:Enigmaman is a homo like mitt romney is.\n",
      " User:NHRHS2010 is a homo like mitt romney is. \n",
      "User:NHRHS2010 is a homo like mitt romney is.\n",
      " User:Enigmaman is a homo like mitt romney is. \n",
      "User:Enigmaman is a homo like mitt romney is.== User:NHRHS2010 is a homo like mitt romney is. ==\n",
      "User:NHRHS2010 is a homo like mitt romney is.\n",
      " User:Enigmaman is a homo like mitt romney is. \n",
      "User:Enigmaman is a homo like mitt romney is.== User:NHRHS2010 is a homo like mitt romney is. ==\n",
      "User:NHRHS2010 is a homo like mitt romney is.\n",
      " User:Enigmaman is a homo like mitt romney is. \n",
      "User:Enigmaman is a homo like mitt romney is.== User:NHRHS2010 is a homo like mitt romney is. ==\n",
      "User:NHRHS2010 is a homo like mitt romney is.\n",
      " User:Enigmaman is a homo like mitt romney is. \n",
      "User:Enigmaman is a homo like mitt romney is.== User:NHRHS2010 is a homo like mitt romney is. ==\n",
      "User:NHRHS2010 is a homo like mitt romney is.\n",
      " User:Enigmaman is a homo like mitt romney is. \n",
      "User:Enigmaman is a homo like mitt romney is.== User:NHRHS2010 is a homo like mitt romney is. ==\n",
      "User:NHRHS2010 is a homo like mitt romney is.\n",
      " User:Enigmaman is a homo like mitt romney is. \n",
      "User:Enigmaman is a homo like mitt romney is.== User:NHRHS2010 is a homo like mitt romney is. ==\n",
      "User:NHRHS2010 is a homo like mitt romney is.\n",
      " User:Enigmaman is a homo like mitt romney is. \n",
      "User:Enigmaman is a homo like mitt romney is.== User:NHRHS2010 is a homo like mitt romney is. ==\n",
      "User:NHRHS2010 is a homo like mitt romney is.\n",
      " User:Enigmaman is a homo like mitt romney is. \n",
      "User:Enigmaman is a homo like mitt romney is.== User:NHRHS2010 is a homo like mitt romney is. ==\n",
      "User:NHRHS2010 is a homo like mitt romney is.\n",
      " User:Enigmaman is a homo like mitt romney is. \n",
      "User:Enigmaman is a homo like mitt romney is.== User:NHRHS2010 is a homo like mitt romney is. ==\n",
      "User:NHRHS2010 is a homo like mitt romney is.\n",
      " User:Enigmaman is a homo like mitt romney is. \n",
      "User:Enigmaman is a homo like mitt romney is.== User:NHRHS2010 is a homo like mitt romney is. ==\n",
      "User:NHRHS2010 is a homo like mitt romney is.\n",
      " User:Enigmaman is a homo like mitt romney is. \n",
      "User:Enigmaman is a homo like mitt romney is.== User:NHRHS2010 is a homo like mitt romney is. ==\n",
      "User:NHRHS2010 is a homo like mitt romney is.\n",
      " User:Enigmaman is a homo like mitt romney is. \n",
      "User:Enigmaman is a homo like mitt romney is.== User:NHRHS2010 is a homo like mitt romney is. ==\n",
      "User:NHRHS2010 is a homo like mitt romney is.\n",
      " User:Enigmaman is a homo like mitt romney is. \n",
      "User:Enigmaman is a homo like mitt romney is.== User:NHRHS2010 is a homo like mitt romney is. ==\n",
      "User:NHRHS2010 is a homo like mitt romney is.\n",
      " User:Enigmaman is a homo like mitt romney is. \n",
      "User:Enigmaman is a homo like mitt romney is.== User:NHRHS2010 is a homo like mitt romney is. ==\n",
      "User:NHRHS2010 is a homo like mitt romney is.\n",
      " User:Enigmaman is a homo like mitt romney is. \n",
      "User:Enigmaman is a homo like mitt romney is.== User:NHRHS2010 is a homo like mitt romney is. ==\n",
      "User:NHRHS2010 is a homo like mitt romney is.\n",
      " User:Enigmaman is a homo like mitt romney is. \n",
      "User:Enigmaman is a homo like mitt romney is.== User:NHRHS2010 is a homo like mitt romney is. ==\n",
      "User:NHRHS2010 is a homo like mitt romney is.\n",
      " User:Enigmaman is a homo like mitt romney is. \n",
      "User:Enigmaman is a homo like mitt romney is.== User:NHRHS2010 is a homo like mitt romney is. ==\n",
      "User:NHRHS2010 is a homo like mitt romney is.\n",
      " User:Enigmaman is a homo like mitt romney is. \n",
      "User:Enigmaman is a homo like mitt romney is.== User:NHRHS2010 is a homo like mitt romney is. ==\n",
      "User:NHRHS2010 is a homo like mitt romney is.\n",
      " User:Enigmaman is a homo like mitt romney is. \n",
      "User:Enigmaman is a homo like mitt romney is.== User:NHRHS2010 is a homo like mitt romney is. ==\n",
      "User:NHRHS2010 is a homo like mitt romney is.\n",
      " User:Enigmaman is a homo like mitt romney is. \n",
      "User:Enigmaman is a homo like mitt romney is.== User:NHRHS2010 is a homo like mitt romney is. ==\n",
      "User:NHRHS2010 is a homo like mitt romney is.\n",
      " User:Enigmaman is a homo like mitt romney is. NEWL\n"
     ]
    }
   ],
   "source": [
    "print(\"Toxic Spam example:\")\n",
    "print(spammers[spammers.toxic==1].comment_text.iloc[2])"
   ]
  },
  {
   "cell_type": "code",
   "execution_count": 36,
   "metadata": {
    "collapsed": true
   },
   "outputs": [],
   "source": [
    "#Leaky features\n",
    "df['ip']=df[\"comment_text\"].apply(lambda x: re.findall(\"\\d{1,3}\\.\\d{1,3}\\.\\d{1,3}\\.\\d{1,3}\",str(x)))\n",
    "#count of ip addresses\n",
    "df['count_ip']=df[\"ip\"].apply(lambda x: len(x))\n",
    "\n",
    "#links\n",
    "df['link']=df[\"comment_text\"].apply(lambda x: re.findall(\"http://.*com\",str(x)))\n",
    "#count of links\n",
    "df['count_links']=df[\"link\"].apply(lambda x: len(x))\n",
    "\n",
    "#article ids\n",
    "df['article_id']=df[\"comment_text\"].apply(lambda x: re.findall(\"\\d:\\d\\d\\s{0,5}$\",str(x)))\n",
    "df['article_id_flag']=df.article_id.apply(lambda x: len(x))\n",
    "\n",
    "#username\n",
    "##              regex for     Match anything with [[User: ---------- ]]\n",
    "# regexp = re.compile(\"\\[\\[User:(.*)\\|\")\n",
    "df['username']=df[\"comment_text\"].apply(lambda x: re.findall(\"\\[\\[User(.*)\\|\",str(x)))\n",
    "#count of username mentions\n",
    "df['count_usernames']=df[\"username\"].apply(lambda x: len(x))\n",
    "#check if features are created\n",
    "#df.username[df.count_usernames>0]\n",
    "\n",
    "# Leaky Ip\n",
    "cv = CountVectorizer()\n",
    "count_feats_ip = cv.fit_transform(df[\"ip\"].apply(lambda x : str(x)))\n",
    "\n",
    "\n",
    "# Leaky usernames\n",
    "cv = CountVectorizer()\n",
    "count_feats_user = cv.fit_transform(df[\"username\"].apply(lambda x : str(x)))"
   ]
  },
  {
   "cell_type": "code",
   "execution_count": 42,
   "metadata": {},
   "outputs": [
    {
     "data": {
      "text/plain": [
       "'\"\\n\\nWhat chart are you looking at?  I don\\'t see anything portraying that timing. [[User talk:Spinningspark|Spark]]\\'\\'\\' \"'"
      ]
     },
     "execution_count": 42,
     "metadata": {},
     "output_type": "execute_result"
    }
   ],
   "source": [
    "df[df.count_usernames!=0].comment_text.iloc[1]"
   ]
  },
  {
   "cell_type": "code",
   "execution_count": 40,
   "metadata": {},
   "outputs": [
    {
     "data": {
      "text/plain": [
       "['danielfolsom',\n",
       " 'dante',\n",
       " 'datbitch',\n",
       " 'dc',\n",
       " 'ddstretch',\n",
       " 'de',\n",
       " 'december',\n",
       " 'deiz',\n",
       " 'deltaquad',\n",
       " 'dennis']"
      ]
     },
     "execution_count": 40,
     "metadata": {},
     "output_type": "execute_result"
    }
   ],
   "source": [
    "cv.get_feature_names()[110:120]"
   ]
  },
  {
   "cell_type": "markdown",
   "metadata": {},
   "source": [
    "Make sure these leaky features are relevant to the original dataset and problem. We look at the intersection of the features within the train and the test dataset as a measure of data leakage - the more overlap, the more we're relying on data outside our training set to train. With the exception of common links, ip's and usernames appear to have minimal overlap and leakage."
   ]
  },
  {
   "cell_type": "code",
   "execution_count": 48,
   "metadata": {
    "collapsed": true
   },
   "outputs": [],
   "source": [
    "leaky_feats=df[[\"ip\",\"link\",\"article_id\",\"username\",\"count_ip\",\"count_links\",\"count_usernames\",\"article_id_flag\"]]\n",
    "leaky_feats_train=leaky_feats.iloc[:train.shape[0]]\n",
    "leaky_feats_test=leaky_feats.iloc[train.shape[0]:]"
   ]
  },
  {
   "cell_type": "code",
   "execution_count": 49,
   "metadata": {},
   "outputs": [
    {
     "data": {
      "image/png": "[encoded data removed]",
      "text/plain": [
       "<matplotlib.figure.Figure at 0x7f2a1f37f898>"
      ]
     },
     "metadata": {},
     "output_type": "display_data"
    }
   ],
   "source": [
    "#filterout the entries without ips\n",
    "train_ips=leaky_feats_train.ip[leaky_feats_train.count_ip!=0]\n",
    "test_ips=leaky_feats_test.ip[leaky_feats_test.count_ip!=0]\n",
    "#get the unique list of ips in test and train datasets\n",
    "train_ip_list=list(set([a for b in train_ips.tolist() for a in b]))\n",
    "test_ip_list=list(set([a for b in test_ips.tolist() for a in b]))\n",
    "\n",
    "# get common elements\n",
    "common_ip_list=list(set(train_ip_list).intersection(test_ip_list))\n",
    "plt.title(\"Common IP addresses\")\n",
    "venn.venn2(subsets=(len(train_ip_list),len(test_ip_list),len(common_ip_list)),set_labels=(\"# of unique IP in train\",\"# of unique IP in test\"))\n",
    "plt.show()"
   ]
  },
  {
   "cell_type": "code",
   "execution_count": 50,
   "metadata": {},
   "outputs": [
    {
     "data": {
      "image/png": "[encoded data removed]",
      "text/plain": [
       "<matplotlib.figure.Figure at 0x7f2a1cb56710>"
      ]
     },
     "metadata": {},
     "output_type": "display_data"
    }
   ],
   "source": [
    "#filterout the entries without links\n",
    "train_links=leaky_feats_train.link[leaky_feats_train.count_links!=0]\n",
    "test_links=leaky_feats_test.link[leaky_feats_test.count_links!=0]\n",
    "#get the unique list of ips in test and train datasets\n",
    "train_links_list=list(set([a for b in train_links.tolist() for a in b]))\n",
    "test_links_list=list(set([a for b in test_links.tolist() for a in b]))\n",
    "\n",
    "# get common elements\n",
    "common_links_list=list(set(train_links_list).intersection(test_links_list))\n",
    "plt.title(\"Common links\")\n",
    "venn.venn2(subsets=(len(train_links_list),len(test_links_list),len(common_links_list)),\n",
    "           set_labels=(\"# of unique links in train\",\"# of unique links in test\"))\n",
    "plt.show()"
   ]
  },
  {
   "cell_type": "code",
   "execution_count": 51,
   "metadata": {
    "scrolled": true
   },
   "outputs": [
    {
     "data": {
      "image/png": "[encoded data removed]",
      "text/plain": [
       "<matplotlib.figure.Figure at 0x7f2a1f5aa6d8>"
      ]
     },
     "metadata": {},
     "output_type": "display_data"
    }
   ],
   "source": [
    "#filterout the entries without users\n",
    "train_users=leaky_feats_train.username[leaky_feats_train.count_usernames!=0]\n",
    "test_users=leaky_feats_test.username[leaky_feats_test.count_usernames!=0]\n",
    "#get the unique list of ips in test and train datasets\n",
    "train_users_list=list(set([a for b in train_users.tolist() for a in b]))\n",
    "test_users_list=list(set([a for b in test_users.tolist() for a in b]))\n",
    "\n",
    "# get common elements\n",
    "common_users_list=list(set(train_users_list).intersection(test_users_list))\n",
    "plt.title(\"Common usernames\")\n",
    "venn.venn2(subsets=(len(train_users_list),len(test_users_list),len(common_users_list)),\n",
    "           set_labels=(\"# of unique Usernames in train\",\"# of unique usernames in test\"))\n",
    "plt.show()"
   ]
  },
  {
   "cell_type": "markdown",
   "metadata": {},
   "source": [
    "**Vectorizing Comments**\n",
    "\n",
    "We believe that the titles and request body should be treated separately. We will do so by building a preprocessor that includes NLTK capabilities along with regular expression cleaning.\n",
    "1. Regular Expressions: cleaning out sequences of numbers, non-letter characters, strings with underscores, and lower-casing\n",
    "2. Tokenizing: splits raw text into sentences, words and punctuation\n",
    "3. Stop Words: removing filler words i.e. the, me, then\n",
    "4. Pos Tag: use tokenized words to identify the part of speech WordNet tag from Penn Treebank https://www.ling.upenn.edu/courses/Fall_2003/ling001/penn_treebank_pos.html\n",
    "5. Lemmatizing: Convert the part of speech WordNet tag to identify a noun, verb, adverb, or adjective (based on starting with 'N’, ‘V’, ‘R’, or ‘J’). Then we use the tag to translate to the lemma, or the root word in the english lexicon."
   ]
  },
  {
   "cell_type": "code",
   "execution_count": 120,
   "metadata": {
    "scrolled": true
   },
   "outputs": [
    {
     "name": "stdout",
     "output_type": "stream",
     "text": [
      "NLTK Downloader\n",
      "---------------------------------------------------------------------------\n",
      "    d) Download   l) List    u) Update   c) Config   h) Help   q) Quit\n",
      "---------------------------------------------------------------------------\n",
      "Downloader> q\n"
     ]
    },
    {
     "data": {
      "text/plain": [
       "True"
      ]
     },
     "execution_count": 120,
     "metadata": {},
     "output_type": "execute_result"
    }
   ],
   "source": [
    "#download all nltk corpora and data if you don't have it already\n",
    "nltk.download()"
   ]
  },
  {
   "cell_type": "code",
   "execution_count": 55,
   "metadata": {
    "collapsed": true
   },
   "outputs": [],
   "source": [
    "def nltk_preprocess(data):\n",
    "    '''This function preprocesses a data frame, specifing a text_column, \n",
    "    and strips down the document to cleaned, individualized word tokens without\n",
    "    stop words and other excessive parts of speech and eventually rejoins the remaining words.\n",
    "    '''\n",
    "    #Initializes stop words and new column creation\n",
    "    stop = stopwords.words('english')\n",
    "    \n",
    "    \n",
    "    #Initialize Lemmatizer object and final list of lemmatized words\n",
    "    lemmatizer = WordNetLemmatizer()\n",
    "    \n",
    "    def get_wordnet_pos(treebank_tag):\n",
    "        if treebank_tag.startswith('J'):\n",
    "            return wordnet.ADJ\n",
    "        elif treebank_tag.startswith('V'):\n",
    "            return wordnet.VERB\n",
    "        elif treebank_tag.startswith('N'):\n",
    "            return wordnet.NOUN\n",
    "        elif treebank_tag.startswith('R'):\n",
    "            return wordnet.ADV\n",
    "        else:\n",
    "            return None # for easy if-statement\n",
    "        \n",
    "    def lemmatized(word, tag):\n",
    "        wntag = get_wordnet_pos(tag)\n",
    "        if wntag is None:\n",
    "            lemma = str(lemmatizer.lemmatize(word))\n",
    "        else:\n",
    "            lemma = str(lemmatizer.lemmatize(word, pos=wntag))\n",
    "        return lemma\n",
    "\n",
    "    #Remove numeric data, alpha nonnumeric symbols, ip address, new lines, and usernames\n",
    "    data = data.apply(lambda z: re.sub(r'\\d+', r' ', z))\n",
    "    data = data.apply(lambda z: re.sub(r'\\W+', r' ', z))\n",
    "    data = data.apply(lambda z: re.sub(r\"_+\",r\" \", z))\n",
    "    data = data.apply(lambda z: re.sub(\"\\\\n\",\"\", z))\n",
    "    data = data.apply(lambda z: re.sub(\"\\d{1,3}\\.\\d{1,3}\\.\\d{1,3}\\.\\d{1,3}\",\"\", z))\n",
    "    data = data.apply(lambda z: re.sub(\"\\[\\[.*\\]\",\"\", z))\n",
    "    \n",
    "    #Decapitalize, NLTK: tokenize, remove stop words, keep relevant pos tags, and lemmatize\n",
    "    data = data.str.lower()\n",
    "    data = data.apply(word_tokenize)\n",
    "    data = data.apply(lambda x: [item for item in x if item not in stop])\n",
    "    data = data.apply(pos_tag)\n",
    "    data = data.apply(lambda x: [lemmatized(word, tag) for (word, tag) in x])\n",
    "    data = data.apply(lambda x: ' '.join(x))\n",
    "    return data"
   ]
  },
  {
   "cell_type": "code",
   "execution_count": 58,
   "metadata": {
    "collapsed": true
   },
   "outputs": [],
   "source": [
    "corpus = merge.comment_text"
   ]
  },
  {
   "cell_type": "code",
   "execution_count": 59,
   "metadata": {
    "scrolled": true
   },
   "outputs": [
    {
     "name": "stdout",
     "output_type": "stream",
     "text": [
      "Data Plumbing took: 993.5272779464722\n"
     ]
    }
   ],
   "source": [
    "start_time = time.time()\n",
    "cleaned_corpus = nltk_preprocess(corpus)\n",
    "end_time = time.time()\n",
    "print(\"Data Plumbing took:\", end_time-start_time)"
   ]
  },
  {
   "cell_type": "code",
   "execution_count": 60,
   "metadata": {},
   "outputs": [
    {
     "data": {
      "text/plain": [
       "'Will you be archiving NWS and SPC maps from today and tomorrow to include on the page? Do you think it would be a good idea? ~'"
      ]
     },
     "execution_count": 60,
     "metadata": {},
     "output_type": "execute_result"
    }
   ],
   "source": [
    "corpus.iloc[1234]"
   ]
  },
  {
   "cell_type": "code",
   "execution_count": 61,
   "metadata": {},
   "outputs": [
    {
     "data": {
      "text/plain": [
       "'archive nws spc map today tomorrow include page think would good idea'"
      ]
     },
     "execution_count": 61,
     "metadata": {},
     "output_type": "execute_result"
    }
   ],
   "source": [
    "cleaned_corpus.iloc[1234]"
   ]
  },
  {
   "cell_type": "code",
   "execution_count": null,
   "metadata": {
    "collapsed": true
   },
   "outputs": [],
   "source": [
    "train_tags=train.iloc[:,2:]"
   ]
  },
  {
   "cell_type": "code",
   "execution_count": 125,
   "metadata": {
    "scrolled": true
   },
   "outputs": [
    {
     "ename": "IndexError",
     "evalue": "index (159546) out of range",
     "output_type": "error",
     "traceback": [
      "\u001b[0;31m---------------------------------------------------------------------------\u001b[0m",
      "\u001b[0;31mIndexError\u001b[0m                                Traceback (most recent call last)",
      "\u001b[0;32m<ipython-input-125-c78953e20692>\u001b[0m in \u001b[0;36m<module>\u001b[0;34m()\u001b[0m\n\u001b[1;32m     46\u001b[0m     \u001b[0;32mreturn\u001b[0m \u001b[0mdfs\u001b[0m\u001b[0;34m\u001b[0m\u001b[0m\n\u001b[1;32m     47\u001b[0m \u001b[0;34m\u001b[0m\u001b[0m\n\u001b[0;32m---> 48\u001b[0;31m \u001b[0mtfidf_top_n_per_lass\u001b[0m\u001b[0;34m=\u001b[0m\u001b[0mtop_feats_by_class\u001b[0m\u001b[0;34m(\u001b[0m\u001b[0mtrain_unigrams\u001b[0m\u001b[0;34m,\u001b[0m\u001b[0mfeatures\u001b[0m\u001b[0;34m)\u001b[0m\u001b[0;34m\u001b[0m\u001b[0m\n\u001b[0m\u001b[1;32m     49\u001b[0m \u001b[0;34m\u001b[0m\u001b[0m\n\u001b[1;32m     50\u001b[0m \u001b[0mplt\u001b[0m\u001b[0;34m.\u001b[0m\u001b[0mfigure\u001b[0m\u001b[0;34m(\u001b[0m\u001b[0mfigsize\u001b[0m\u001b[0;34m=\u001b[0m\u001b[0;34m(\u001b[0m\u001b[0;36m16\u001b[0m\u001b[0;34m,\u001b[0m\u001b[0;36m22\u001b[0m\u001b[0;34m)\u001b[0m\u001b[0;34m)\u001b[0m\u001b[0;34m\u001b[0m\u001b[0m\n",
      "\u001b[0;32m<ipython-input-125-c78953e20692>\u001b[0m in \u001b[0;36mtop_feats_by_class\u001b[0;34m(Xtr, features, min_tfidf, top_n)\u001b[0m\n\u001b[1;32m     41\u001b[0m     \u001b[0;32mfor\u001b[0m \u001b[0mcol\u001b[0m \u001b[0;32min\u001b[0m \u001b[0mcols\u001b[0m\u001b[0;34m:\u001b[0m\u001b[0;34m\u001b[0m\u001b[0m\n\u001b[1;32m     42\u001b[0m         \u001b[0mids\u001b[0m \u001b[0;34m=\u001b[0m \u001b[0mtrain_labels\u001b[0m\u001b[0;34m.\u001b[0m\u001b[0mindex\u001b[0m\u001b[0;34m[\u001b[0m\u001b[0mtrain_labels\u001b[0m\u001b[0;34m[\u001b[0m\u001b[0mcol\u001b[0m\u001b[0;34m]\u001b[0m\u001b[0;34m==\u001b[0m\u001b[0;36m1\u001b[0m\u001b[0;34m]\u001b[0m\u001b[0;34m\u001b[0m\u001b[0m\n\u001b[0;32m---> 43\u001b[0;31m         \u001b[0mfeats_df\u001b[0m \u001b[0;34m=\u001b[0m \u001b[0mtop_mean_feats\u001b[0m\u001b[0;34m(\u001b[0m\u001b[0mXtr\u001b[0m\u001b[0;34m,\u001b[0m \u001b[0mfeatures\u001b[0m\u001b[0;34m,\u001b[0m \u001b[0mids\u001b[0m\u001b[0;34m,\u001b[0m \u001b[0mmin_tfidf\u001b[0m\u001b[0;34m=\u001b[0m\u001b[0mmin_tfidf\u001b[0m\u001b[0;34m,\u001b[0m \u001b[0mtop_n\u001b[0m\u001b[0;34m=\u001b[0m\u001b[0mtop_n\u001b[0m\u001b[0;34m)\u001b[0m\u001b[0;34m\u001b[0m\u001b[0m\n\u001b[0m\u001b[1;32m     44\u001b[0m         \u001b[0mfeats_df\u001b[0m\u001b[0;34m.\u001b[0m\u001b[0mlabel\u001b[0m \u001b[0;34m=\u001b[0m \u001b[0mlabel\u001b[0m\u001b[0;34m\u001b[0m\u001b[0m\n\u001b[1;32m     45\u001b[0m         \u001b[0mdfs\u001b[0m\u001b[0;34m.\u001b[0m\u001b[0mappend\u001b[0m\u001b[0;34m(\u001b[0m\u001b[0mfeats_df\u001b[0m\u001b[0;34m)\u001b[0m\u001b[0;34m\u001b[0m\u001b[0m\n",
      "\u001b[0;32m<ipython-input-125-c78953e20692>\u001b[0m in \u001b[0;36mtop_mean_feats\u001b[0;34m(Xtr, features, grp_ids, min_tfidf, top_n)\u001b[0m\n\u001b[1;32m     27\u001b[0m         indentified by indices in grp_ids. '''\n\u001b[1;32m     28\u001b[0m \u001b[0;34m\u001b[0m\u001b[0m\n\u001b[0;32m---> 29\u001b[0;31m     \u001b[0mD\u001b[0m \u001b[0;34m=\u001b[0m \u001b[0mXtr\u001b[0m\u001b[0;34m[\u001b[0m\u001b[0mgrp_ids\u001b[0m\u001b[0;34m]\u001b[0m\u001b[0;34m.\u001b[0m\u001b[0mtoarray\u001b[0m\u001b[0;34m(\u001b[0m\u001b[0;34m)\u001b[0m\u001b[0;34m\u001b[0m\u001b[0m\n\u001b[0m\u001b[1;32m     30\u001b[0m \u001b[0;34m\u001b[0m\u001b[0m\n\u001b[1;32m     31\u001b[0m     \u001b[0mD\u001b[0m\u001b[0;34m[\u001b[0m\u001b[0mD\u001b[0m \u001b[0;34m<\u001b[0m \u001b[0mmin_tfidf\u001b[0m\u001b[0;34m]\u001b[0m \u001b[0;34m=\u001b[0m \u001b[0;36m0\u001b[0m\u001b[0;34m\u001b[0m\u001b[0m\n",
      "\u001b[0;32m~/anaconda3/lib/python3.6/site-packages/scipy/sparse/csr.py\u001b[0m in \u001b[0;36m__getitem__\u001b[0;34m(self, key)\u001b[0m\n\u001b[1;32m    342\u001b[0m         \u001b[0;32mif\u001b[0m \u001b[0mnum_samples\u001b[0m \u001b[0;34m==\u001b[0m \u001b[0;36m0\u001b[0m\u001b[0;34m:\u001b[0m\u001b[0;34m\u001b[0m\u001b[0m\n\u001b[1;32m    343\u001b[0m             \u001b[0;32mreturn\u001b[0m \u001b[0mcsr_matrix\u001b[0m\u001b[0;34m(\u001b[0m\u001b[0mnp\u001b[0m\u001b[0;34m.\u001b[0m\u001b[0matleast_2d\u001b[0m\u001b[0;34m(\u001b[0m\u001b[0mrow\u001b[0m\u001b[0;34m)\u001b[0m\u001b[0;34m.\u001b[0m\u001b[0mshape\u001b[0m\u001b[0;34m,\u001b[0m \u001b[0mdtype\u001b[0m\u001b[0;34m=\u001b[0m\u001b[0mself\u001b[0m\u001b[0;34m.\u001b[0m\u001b[0mdtype\u001b[0m\u001b[0;34m)\u001b[0m\u001b[0;34m\u001b[0m\u001b[0m\n\u001b[0;32m--> 344\u001b[0;31m         \u001b[0mcheck_bounds\u001b[0m\u001b[0;34m(\u001b[0m\u001b[0mrow\u001b[0m\u001b[0;34m,\u001b[0m \u001b[0mself\u001b[0m\u001b[0;34m.\u001b[0m\u001b[0mshape\u001b[0m\u001b[0;34m[\u001b[0m\u001b[0;36m0\u001b[0m\u001b[0;34m]\u001b[0m\u001b[0;34m)\u001b[0m\u001b[0;34m\u001b[0m\u001b[0m\n\u001b[0m\u001b[1;32m    345\u001b[0m         \u001b[0mcheck_bounds\u001b[0m\u001b[0;34m(\u001b[0m\u001b[0mcol\u001b[0m\u001b[0;34m,\u001b[0m \u001b[0mself\u001b[0m\u001b[0;34m.\u001b[0m\u001b[0mshape\u001b[0m\u001b[0;34m[\u001b[0m\u001b[0;36m1\u001b[0m\u001b[0;34m]\u001b[0m\u001b[0;34m)\u001b[0m\u001b[0;34m\u001b[0m\u001b[0m\n\u001b[1;32m    346\u001b[0m \u001b[0;34m\u001b[0m\u001b[0m\n",
      "\u001b[0;32m~/anaconda3/lib/python3.6/site-packages/scipy/sparse/csr.py\u001b[0m in \u001b[0;36mcheck_bounds\u001b[0;34m(indices, N)\u001b[0m\n\u001b[1;32m    254\u001b[0m             \u001b[0mmax_indx\u001b[0m \u001b[0;34m=\u001b[0m \u001b[0mindices\u001b[0m\u001b[0;34m.\u001b[0m\u001b[0mmax\u001b[0m\u001b[0;34m(\u001b[0m\u001b[0;34m)\u001b[0m\u001b[0;34m\u001b[0m\u001b[0m\n\u001b[1;32m    255\u001b[0m             \u001b[0;32mif\u001b[0m \u001b[0mmax_indx\u001b[0m \u001b[0;34m>=\u001b[0m \u001b[0mN\u001b[0m\u001b[0;34m:\u001b[0m\u001b[0;34m\u001b[0m\u001b[0m\n\u001b[0;32m--> 256\u001b[0;31m                 \u001b[0;32mraise\u001b[0m \u001b[0mIndexError\u001b[0m\u001b[0;34m(\u001b[0m\u001b[0;34m'index (%d) out of range'\u001b[0m \u001b[0;34m%\u001b[0m \u001b[0mmax_indx\u001b[0m\u001b[0;34m)\u001b[0m\u001b[0;34m\u001b[0m\u001b[0m\n\u001b[0m\u001b[1;32m    257\u001b[0m \u001b[0;34m\u001b[0m\u001b[0m\n\u001b[1;32m    258\u001b[0m             \u001b[0mmin_indx\u001b[0m \u001b[0;34m=\u001b[0m \u001b[0mindices\u001b[0m\u001b[0;34m.\u001b[0m\u001b[0mmin\u001b[0m\u001b[0;34m(\u001b[0m\u001b[0;34m)\u001b[0m\u001b[0;34m\u001b[0m\u001b[0m\n",
      "\u001b[0;31mIndexError\u001b[0m: index (159546) out of range"
     ]
    }
   ],
   "source": [
    "start_unigrams=time.time()\n",
    "tfv = TfidfVectorizer(min_df=200,  max_features=10000, \n",
    "            strip_accents='unicode', analyzer='word',ngram_range=(1,1),\n",
    "            use_idf=1,smooth_idf=1,sublinear_tf=1,\n",
    "            stop_words = 'english')\n",
    "tfv.fit(preprocessed_train_data)\n",
    "features = np.array(tfv.get_feature_names())\n",
    "\n",
    "train_unigrams =  tfv.transform(preprocessed_train_data)\n",
    "dev_unigrams = tfv.transform(preprocessed_dev_data)\n",
    "\n",
    "def top_tfidf_feats(row, features, top_n=25):\n",
    "    ''' Get top n tfidf values in row and return them with their corresponding feature names.'''\n",
    "    topn_ids = np.argsort(row)[::-1][:top_n]\n",
    "    top_feats = [(features[i], row[i]) for i in topn_ids]\n",
    "    df = pd.DataFrame(top_feats)\n",
    "    df.columns = ['feature', 'tfidf']\n",
    "    return df\n",
    "\n",
    "def top_feats_in_doc(Xtr, features, row_id, top_n=25):\n",
    "    ''' Top tfidf features in specific document (matrix row) '''\n",
    "    row = np.squeeze(Xtr[row_id].toarray())\n",
    "    return top_tfidf_feats(row, features, top_n)\n",
    "\n",
    "def top_mean_feats(Xtr, features, grp_ids, min_tfidf=0.1, top_n=25):\n",
    "    ''' Return the top n features that on average are most important amongst documents in rows\n",
    "        indentified by indices in grp_ids. '''\n",
    "    \n",
    "    D = Xtr[grp_ids].toarray()\n",
    "\n",
    "    D[D < min_tfidf] = 0\n",
    "    tfidf_means = np.mean(D, axis=0)\n",
    "    return top_tfidf_feats(tfidf_means, features, top_n)\n",
    "\n",
    "# modified for multilabel milticlass\n",
    "def top_feats_by_class(Xtr, features, min_tfidf=0.1, top_n=20):\n",
    "    ''' Return a list of dfs, where each df holds top_n features and their mean tfidf value\n",
    "        calculated across documents with the same class label. '''\n",
    "    dfs = []\n",
    "    cols=train_tags.columns\n",
    "    for col in cols:\n",
    "        ids = train_tags.index[train_tags[col]==1]\n",
    "        feats_df = top_mean_feats(Xtr, features, ids, min_tfidf=min_tfidf, top_n=top_n)\n",
    "        feats_df.label = label\n",
    "        dfs.append(feats_df)\n",
    "    return dfs\n",
    "\n",
    "tfidf_top_n_per_lass=top_feats_by_class(train_unigrams,features)\n",
    "\n",
    "plt.figure(figsize=(16,22))\n",
    "plt.suptitle(\"TF_IDF Top words per class(unigrams)\",fontsize=20)\n",
    "gridspec.GridSpec(4,2)\n",
    "plt.subplot2grid((4,2),(0,0))\n",
    "sns.barplot(tfidf_top_n_per_lass[0].feature.iloc[0:9],tfidf_top_n_per_lass[0].tfidf.iloc[0:9],color=color[0])\n",
    "plt.title(\"class : Toxic\",fontsize=15)\n",
    "plt.xlabel('Word', fontsize=12)\n",
    "plt.ylabel('TF-IDF score', fontsize=12)\n",
    "\n",
    "plt.subplot2grid((4,2),(0,1))\n",
    "sns.barplot(tfidf_top_n_per_lass[1].feature.iloc[0:9],tfidf_top_n_per_lass[1].tfidf.iloc[0:9],color=color[1])\n",
    "plt.title(\"class : Severe toxic\",fontsize=15)\n",
    "plt.xlabel('Word', fontsize=12)\n",
    "plt.ylabel('TF-IDF score', fontsize=12)\n",
    "\n",
    "\n",
    "plt.subplot2grid((4,2),(1,0))\n",
    "sns.barplot(tfidf_top_n_per_lass[2].feature.iloc[0:9],tfidf_top_n_per_lass[2].tfidf.iloc[0:9],color=color[2])\n",
    "plt.title(\"class : Obscene\",fontsize=15)\n",
    "plt.xlabel('Word', fontsize=12)\n",
    "plt.ylabel('TF-IDF score', fontsize=12)\n",
    "\n",
    "\n",
    "plt.subplot2grid((4,2),(1,1))\n",
    "sns.barplot(tfidf_top_n_per_lass[3].feature.iloc[0:9],tfidf_top_n_per_lass[3].tfidf.iloc[0:9],color=color[3])\n",
    "plt.title(\"class : Threat\",fontsize=15)\n",
    "plt.xlabel('Word', fontsize=12)\n",
    "plt.ylabel('TF-IDF score', fontsize=12)\n",
    "\n",
    "\n",
    "plt.subplot2grid((4,2),(2,0))\n",
    "sns.barplot(tfidf_top_n_per_lass[4].feature.iloc[0:9],tfidf_top_n_per_lass[4].tfidf.iloc[0:9],color=color[4])\n",
    "plt.title(\"class : Insult\",fontsize=15)\n",
    "plt.xlabel('Word', fontsize=12)\n",
    "plt.ylabel('TF-IDF score', fontsize=12)\n",
    "\n",
    "\n",
    "plt.subplot2grid((4,2),(2,1))\n",
    "sns.barplot(tfidf_top_n_per_lass[5].feature.iloc[0:9],tfidf_top_n_per_lass[5].tfidf.iloc[0:9],color=color[5])\n",
    "plt.title(\"class : Identity hate\",fontsize=15)\n",
    "plt.xlabel('Word', fontsize=12)\n",
    "plt.ylabel('TF-IDF score', fontsize=12)\n",
    "\n",
    "\n",
    "plt.subplot2grid((4,2),(3,0),colspan=2)\n",
    "sns.barplot(tfidf_top_n_per_lass[6].feature.iloc[0:19],tfidf_top_n_per_lass[6].tfidf.iloc[0:19])\n",
    "plt.title(\"class : Clean\",fontsize=15)\n",
    "plt.xlabel('Word', fontsize=12)\n",
    "plt.ylabel('TF-IDF score', fontsize=12)\n",
    "\n",
    "plt.show()"
   ]
  },
  {
   "cell_type": "markdown",
   "metadata": {},
   "source": [
    "# Modelling"
   ]
  },
  {
   "cell_type": "code",
   "execution_count": 133,
   "metadata": {},
   "outputs": [
    {
     "name": "stdout",
     "output_type": "stream",
     "text": [
      "train_text (135526,) \n",
      "train_labels (135526, 6)\n",
      "\n",
      "\n",
      "dev_text (24045,) \n",
      "dev_labels (24045, 6)\n"
     ]
    },
    {
     "data": {
      "text/html": [
       "<div>\n",
       "<style>\n",
       "    .dataframe thead tr:only-child th {\n",
       "        text-align: right;\n",
       "    }\n",
       "\n",
       "    .dataframe thead th {\n",
       "        text-align: left;\n",
       "    }\n",
       "\n",
       "    .dataframe tbody tr th {\n",
       "        vertical-align: top;\n",
       "    }\n",
       "</style>\n",
       "<table border=\"1\" class=\"dataframe\">\n",
       "  <thead>\n",
       "    <tr style=\"text-align: right;\">\n",
       "      <th></th>\n",
       "      <th>id</th>\n",
       "      <th>comment_text</th>\n",
       "      <th>toxic</th>\n",
       "      <th>severe_toxic</th>\n",
       "      <th>obscene</th>\n",
       "      <th>threat</th>\n",
       "      <th>insult</th>\n",
       "      <th>identity_hate</th>\n",
       "    </tr>\n",
       "  </thead>\n",
       "  <tbody>\n",
       "    <tr>\n",
       "      <th>0</th>\n",
       "      <td>0000997932d777bf</td>\n",
       "      <td>Explanation\\nWhy the edits made under my usern...</td>\n",
       "      <td>0</td>\n",
       "      <td>0</td>\n",
       "      <td>0</td>\n",
       "      <td>0</td>\n",
       "      <td>0</td>\n",
       "      <td>0</td>\n",
       "    </tr>\n",
       "    <tr>\n",
       "      <th>1</th>\n",
       "      <td>000103f0d9cfb60f</td>\n",
       "      <td>D'aww! He matches this background colour I'm s...</td>\n",
       "      <td>0</td>\n",
       "      <td>0</td>\n",
       "      <td>0</td>\n",
       "      <td>0</td>\n",
       "      <td>0</td>\n",
       "      <td>0</td>\n",
       "    </tr>\n",
       "    <tr>\n",
       "      <th>2</th>\n",
       "      <td>000113f07ec002fd</td>\n",
       "      <td>Hey man, I'm really not trying to edit war. It...</td>\n",
       "      <td>0</td>\n",
       "      <td>0</td>\n",
       "      <td>0</td>\n",
       "      <td>0</td>\n",
       "      <td>0</td>\n",
       "      <td>0</td>\n",
       "    </tr>\n",
       "    <tr>\n",
       "      <th>3</th>\n",
       "      <td>0001b41b1c6bb37e</td>\n",
       "      <td>\"\\nMore\\nI can't make any real suggestions on ...</td>\n",
       "      <td>0</td>\n",
       "      <td>0</td>\n",
       "      <td>0</td>\n",
       "      <td>0</td>\n",
       "      <td>0</td>\n",
       "      <td>0</td>\n",
       "    </tr>\n",
       "    <tr>\n",
       "      <th>4</th>\n",
       "      <td>0001d958c54c6e35</td>\n",
       "      <td>You, sir, are my hero. Any chance you remember...</td>\n",
       "      <td>0</td>\n",
       "      <td>0</td>\n",
       "      <td>0</td>\n",
       "      <td>0</td>\n",
       "      <td>0</td>\n",
       "      <td>0</td>\n",
       "    </tr>\n",
       "    <tr>\n",
       "      <th>5</th>\n",
       "      <td>00025465d4725e87</td>\n",
       "      <td>\"\\n\\nCongratulations from me as well, use the ...</td>\n",
       "      <td>0</td>\n",
       "      <td>0</td>\n",
       "      <td>0</td>\n",
       "      <td>0</td>\n",
       "      <td>0</td>\n",
       "      <td>0</td>\n",
       "    </tr>\n",
       "    <tr>\n",
       "      <th>6</th>\n",
       "      <td>0002bcb3da6cb337</td>\n",
       "      <td>COCKSUCKER BEFORE YOU PISS AROUND ON MY WORK</td>\n",
       "      <td>1</td>\n",
       "      <td>1</td>\n",
       "      <td>1</td>\n",
       "      <td>0</td>\n",
       "      <td>1</td>\n",
       "      <td>0</td>\n",
       "    </tr>\n",
       "    <tr>\n",
       "      <th>7</th>\n",
       "      <td>00031b1e95af7921</td>\n",
       "      <td>Your vandalism to the Matt Shirvington article...</td>\n",
       "      <td>0</td>\n",
       "      <td>0</td>\n",
       "      <td>0</td>\n",
       "      <td>0</td>\n",
       "      <td>0</td>\n",
       "      <td>0</td>\n",
       "    </tr>\n",
       "    <tr>\n",
       "      <th>8</th>\n",
       "      <td>00037261f536c51d</td>\n",
       "      <td>Sorry if the word 'nonsense' was offensive to ...</td>\n",
       "      <td>0</td>\n",
       "      <td>0</td>\n",
       "      <td>0</td>\n",
       "      <td>0</td>\n",
       "      <td>0</td>\n",
       "      <td>0</td>\n",
       "    </tr>\n",
       "    <tr>\n",
       "      <th>9</th>\n",
       "      <td>00040093b2687caa</td>\n",
       "      <td>alignment on this subject and which are contra...</td>\n",
       "      <td>0</td>\n",
       "      <td>0</td>\n",
       "      <td>0</td>\n",
       "      <td>0</td>\n",
       "      <td>0</td>\n",
       "      <td>0</td>\n",
       "    </tr>\n",
       "    <tr>\n",
       "      <th>10</th>\n",
       "      <td>0005300084f90edc</td>\n",
       "      <td>\"\\nFair use rationale for Image:Wonju.jpg\\n\\nT...</td>\n",
       "      <td>0</td>\n",
       "      <td>0</td>\n",
       "      <td>0</td>\n",
       "      <td>0</td>\n",
       "      <td>0</td>\n",
       "      <td>0</td>\n",
       "    </tr>\n",
       "    <tr>\n",
       "      <th>11</th>\n",
       "      <td>00054a5e18b50dd4</td>\n",
       "      <td>bbq \\n\\nbe a man and lets discuss it-maybe ove...</td>\n",
       "      <td>0</td>\n",
       "      <td>0</td>\n",
       "      <td>0</td>\n",
       "      <td>0</td>\n",
       "      <td>0</td>\n",
       "      <td>0</td>\n",
       "    </tr>\n",
       "    <tr>\n",
       "      <th>12</th>\n",
       "      <td>0005c987bdfc9d4b</td>\n",
       "      <td>Hey... what is it..\\n@ | talk .\\nWhat is it......</td>\n",
       "      <td>1</td>\n",
       "      <td>0</td>\n",
       "      <td>0</td>\n",
       "      <td>0</td>\n",
       "      <td>0</td>\n",
       "      <td>0</td>\n",
       "    </tr>\n",
       "    <tr>\n",
       "      <th>13</th>\n",
       "      <td>0006f16e4e9f292e</td>\n",
       "      <td>Before you start throwing accusations and warn...</td>\n",
       "      <td>0</td>\n",
       "      <td>0</td>\n",
       "      <td>0</td>\n",
       "      <td>0</td>\n",
       "      <td>0</td>\n",
       "      <td>0</td>\n",
       "    </tr>\n",
       "    <tr>\n",
       "      <th>14</th>\n",
       "      <td>00070ef96486d6f9</td>\n",
       "      <td>Oh, and the girl above started her arguments w...</td>\n",
       "      <td>0</td>\n",
       "      <td>0</td>\n",
       "      <td>0</td>\n",
       "      <td>0</td>\n",
       "      <td>0</td>\n",
       "      <td>0</td>\n",
       "    </tr>\n",
       "    <tr>\n",
       "      <th>15</th>\n",
       "      <td>00078f8ce7eb276d</td>\n",
       "      <td>\"\\n\\nJuelz Santanas Age\\n\\nIn 2002, Juelz Sant...</td>\n",
       "      <td>0</td>\n",
       "      <td>0</td>\n",
       "      <td>0</td>\n",
       "      <td>0</td>\n",
       "      <td>0</td>\n",
       "      <td>0</td>\n",
       "    </tr>\n",
       "    <tr>\n",
       "      <th>16</th>\n",
       "      <td>0007e25b2121310b</td>\n",
       "      <td>Bye! \\n\\nDon't look, come or think of comming ...</td>\n",
       "      <td>1</td>\n",
       "      <td>0</td>\n",
       "      <td>0</td>\n",
       "      <td>0</td>\n",
       "      <td>0</td>\n",
       "      <td>0</td>\n",
       "    </tr>\n",
       "    <tr>\n",
       "      <th>17</th>\n",
       "      <td>000897889268bc93</td>\n",
       "      <td>REDIRECT Talk:Voydan Pop Georgiev- Chernodrinski</td>\n",
       "      <td>0</td>\n",
       "      <td>0</td>\n",
       "      <td>0</td>\n",
       "      <td>0</td>\n",
       "      <td>0</td>\n",
       "      <td>0</td>\n",
       "    </tr>\n",
       "    <tr>\n",
       "      <th>18</th>\n",
       "      <td>0009801bd85e5806</td>\n",
       "      <td>The Mitsurugi point made no sense - why not ar...</td>\n",
       "      <td>0</td>\n",
       "      <td>0</td>\n",
       "      <td>0</td>\n",
       "      <td>0</td>\n",
       "      <td>0</td>\n",
       "      <td>0</td>\n",
       "    </tr>\n",
       "    <tr>\n",
       "      <th>19</th>\n",
       "      <td>0009eaea3325de8c</td>\n",
       "      <td>Don't mean to bother you \\n\\nI see that you're...</td>\n",
       "      <td>0</td>\n",
       "      <td>0</td>\n",
       "      <td>0</td>\n",
       "      <td>0</td>\n",
       "      <td>0</td>\n",
       "      <td>0</td>\n",
       "    </tr>\n",
       "  </tbody>\n",
       "</table>\n",
       "</div>"
      ],
      "text/plain": [
       "                  id                                       comment_text  \\\n",
       "0   0000997932d777bf  Explanation\\nWhy the edits made under my usern...   \n",
       "1   000103f0d9cfb60f  D'aww! He matches this background colour I'm s...   \n",
       "2   000113f07ec002fd  Hey man, I'm really not trying to edit war. It...   \n",
       "3   0001b41b1c6bb37e  \"\\nMore\\nI can't make any real suggestions on ...   \n",
       "4   0001d958c54c6e35  You, sir, are my hero. Any chance you remember...   \n",
       "5   00025465d4725e87  \"\\n\\nCongratulations from me as well, use the ...   \n",
       "6   0002bcb3da6cb337       COCKSUCKER BEFORE YOU PISS AROUND ON MY WORK   \n",
       "7   00031b1e95af7921  Your vandalism to the Matt Shirvington article...   \n",
       "8   00037261f536c51d  Sorry if the word 'nonsense' was offensive to ...   \n",
       "9   00040093b2687caa  alignment on this subject and which are contra...   \n",
       "10  0005300084f90edc  \"\\nFair use rationale for Image:Wonju.jpg\\n\\nT...   \n",
       "11  00054a5e18b50dd4  bbq \\n\\nbe a man and lets discuss it-maybe ove...   \n",
       "12  0005c987bdfc9d4b  Hey... what is it..\\n@ | talk .\\nWhat is it......   \n",
       "13  0006f16e4e9f292e  Before you start throwing accusations and warn...   \n",
       "14  00070ef96486d6f9  Oh, and the girl above started her arguments w...   \n",
       "15  00078f8ce7eb276d  \"\\n\\nJuelz Santanas Age\\n\\nIn 2002, Juelz Sant...   \n",
       "16  0007e25b2121310b  Bye! \\n\\nDon't look, come or think of comming ...   \n",
       "17  000897889268bc93   REDIRECT Talk:Voydan Pop Georgiev- Chernodrinski   \n",
       "18  0009801bd85e5806  The Mitsurugi point made no sense - why not ar...   \n",
       "19  0009eaea3325de8c  Don't mean to bother you \\n\\nI see that you're...   \n",
       "\n",
       "    toxic  severe_toxic  obscene  threat  insult  identity_hate  \n",
       "0       0             0        0       0       0              0  \n",
       "1       0             0        0       0       0              0  \n",
       "2       0             0        0       0       0              0  \n",
       "3       0             0        0       0       0              0  \n",
       "4       0             0        0       0       0              0  \n",
       "5       0             0        0       0       0              0  \n",
       "6       1             1        1       0       1              0  \n",
       "7       0             0        0       0       0              0  \n",
       "8       0             0        0       0       0              0  \n",
       "9       0             0        0       0       0              0  \n",
       "10      0             0        0       0       0              0  \n",
       "11      0             0        0       0       0              0  \n",
       "12      1             0        0       0       0              0  \n",
       "13      0             0        0       0       0              0  \n",
       "14      0             0        0       0       0              0  \n",
       "15      0             0        0       0       0              0  \n",
       "16      1             0        0       0       0              0  \n",
       "17      0             0        0       0       0              0  \n",
       "18      0             0        0       0       0              0  \n",
       "19      0             0        0       0       0              0  "
      ]
     },
     "execution_count": 133,
     "metadata": {},
     "output_type": "execute_result"
    }
   ],
   "source": [
    "#Modelling\n",
    "#Seeding\n",
    "np.random.seed(6)\n",
    "in_dev = np.random.choice([True, False], len(train), p=[0.15, 0.85])\n",
    "\n",
    "#Train\n",
    "train_data = train.comment_text[np.logical_not(in_dev)]\n",
    "train_labels = train.iloc[np.logical_not(in_dev), 2:8]\n",
    "\n",
    "#Dev Set\n",
    "dev_data, dev_labels = train.comment_text[in_dev], train.iloc[in_dev, 2:8]\n",
    "\n",
    "#Target Names\n",
    "target_names = train.columns[2:8]\n",
    "\n",
    "#Print some train data\n",
    "print(\"train_text\", train_data.shape, \"\\ntrain_labels\", train_labels.shape)\n",
    "print(\"\\n\\ndev_text\", dev_data.shape, \"\\ndev_labels\", dev_labels.shape)\n",
    "train.head(n=20)"
   ]
  },
  {
   "cell_type": "code",
   "execution_count": 91,
   "metadata": {
    "scrolled": false
   },
   "outputs": [
    {
     "data": {
      "text/plain": [
       "Pipeline(memory=None,\n",
       "     steps=[('cv', CountVectorizer(analyzer='word', binary=False, decode_error='strict',\n",
       "        dtype=<class 'numpy.int64'>, encoding='utf-8', input='content',\n",
       "        lowercase=True, max_df=1.0, max_features=None, min_df=1,\n",
       "        ngram_range=(1, 1), preprocessor=None, stop_words=None,\n",
       "        strip_a...      min_weight_fraction_leaf=0.0, presort=False, random_state=None,\n",
       "            splitter='best'))])"
      ]
     },
     "execution_count": 91,
     "metadata": {},
     "output_type": "execute_result"
    }
   ],
   "source": [
    "toxic_pipeline = Pipeline([('cv', CountVectorizer()),\n",
    "                           ('tfidf', TfidfTransformer()),\n",
    "                           ('dtc', DecisionTreeClassifier())])\n",
    "\n",
    "#toxic_pipeline_2 = Pipeline([('cv', CountVectorizer()), ('tfidf', TfidfTransformer()), ('svc', OneVsRestClassifier(LinearSVC(multi_class=\"ovr\")))])\n",
    "\n",
    "\n",
    "toxic_pipeline.fit(preprocessed_train_data, train_labels)\n",
    "#toxic_pipeline_2.fit(preprocessed_train_data, train_labels)"
   ]
  },
  {
   "cell_type": "code",
   "execution_count": 22,
   "metadata": {
    "scrolled": true
   },
   "outputs": [
    {
     "name": "stdout",
     "output_type": "stream",
     "text": [
      "               precision    recall  f1-score   support\n",
      "\n",
      "        toxic       0.57      0.61      0.59      2162\n",
      " severe_toxic       0.22      0.65      0.33        79\n",
      "      obscene       0.64      0.59      0.61      1342\n",
      "       threat       0.08      0.75      0.14         8\n",
      "       insult       0.43      0.80      0.56       619\n",
      "identity_hate       0.14      0.74      0.23        38\n",
      "\n",
      "  avg / total       0.56      0.63      0.58      4248\n",
      "\n"
     ]
    }
   ],
   "source": [
    "toxic_pipeline_2 = Pipeline([('cv', CountVectorizer()),\n",
    "                           ('tfidf', TfidfTransformer()),\n",
    "                           ('svc', OneVsRestClassifier(LinearSVC(multi_class=\"ovr\")))])\n",
    "toxic_pipeline_2.fit(preprocessed_train_data, train_labels)\n",
    "pred_dev_2 = toxic_pipeline_2.predict(dev_data)\n",
    "print(classification_report(pred_dev_2, dev_labels, target_names = target_names))"
   ]
  },
  {
   "cell_type": "code",
   "execution_count": 14,
   "metadata": {
    "scrolled": true
   },
   "outputs": [
    {
     "name": "stdout",
     "output_type": "stream",
     "text": [
      "               precision    recall  f1-score   support\n",
      "\n",
      "        toxic       0.58      0.24      0.34      5637\n",
      " severe_toxic       0.13      0.26      0.17       116\n",
      "      obscene       0.67      0.27      0.38      3062\n",
      "       threat       0.12      0.23      0.16        39\n",
      "       insult       0.50      0.22      0.30      2700\n",
      "identity_hate       0.17      0.18      0.17       189\n",
      "\n",
      "  avg / total       0.57      0.24      0.34     11743\n",
      "\n",
      "               precision    recall  f1-score   support\n",
      "\n",
      "        toxic       0.57      0.61      0.59      2162\n",
      " severe_toxic       0.22      0.65      0.33        79\n",
      "      obscene       0.64      0.59      0.61      1342\n",
      "       threat       0.08      0.75      0.14         8\n",
      "       insult       0.43      0.80      0.56       619\n",
      "identity_hate       0.14      0.74      0.23        38\n",
      "\n",
      "  avg / total       0.56      0.63      0.58      4248\n",
      "\n"
     ]
    }
   ],
   "source": [
    "pred_dev = toxic_pipeline.predict(dev_data)\n",
    "pred_dev_2 = toxic_pipeline_2.predict(dev_data)\n",
    "print(classification_report(pred_dev, dev_labels, target_names = target_names))\n",
    "print(classification_report(pred_dev_2, dev_labels, target_names = target_names))"
   ]
  },
  {
   "cell_type": "code",
   "execution_count": 21,
   "metadata": {},
   "outputs": [
    {
     "name": "stdout",
     "output_type": "stream",
     "text": [
      "               precision    recall  f1-score   support\n",
      "\n",
      "        toxic       0.71      0.29      0.41     32432\n",
      " severe_toxic       0.47      0.68      0.56       951\n",
      "      obscene       0.74      0.32      0.44     16915\n",
      "       threat       0.33      0.56      0.42       241\n",
      "       insult       0.64      0.29      0.39     15011\n",
      "identity_hate       0.47      0.45      0.46      1246\n",
      "\n",
      "  avg / total       0.69      0.30      0.42     66796\n",
      "\n",
      "               precision    recall  f1-score   support\n",
      "\n",
      "        toxic       0.69      0.70      0.70     12842\n",
      " severe_toxic       0.35      0.86      0.50       562\n",
      "      obscene       0.75      0.67      0.71      8063\n",
      "       threat       0.20      0.94      0.33        86\n",
      "       insult       0.59      0.92      0.72      4332\n",
      "identity_hate       0.31      0.95      0.46       388\n",
      "\n",
      "  avg / total       0.68      0.73      0.69     26273\n",
      "\n"
     ]
    }
   ],
   "source": [
    "pred_train = toxic_pipeline.predict(train_data)\n",
    "pred_train_2 = toxic_pipeline_2.predict(train_data)\n",
    "print(classification_report(pred_train, train_labels, target_names = target_names))\n",
    "print(classification_report(pred_train_2, train_labels, target_names = target_names))"
   ]
  },
  {
   "cell_type": "code",
   "execution_count": 17,
   "metadata": {
    "collapsed": true,
    "scrolled": true
   },
   "outputs": [],
   "source": [
    "pred_test = toxic_pipeline.predict(test)\n",
    "pred_test_2 = toxic_pipeline_2.predict(test)"
   ]
  },
  {
   "cell_type": "code",
   "execution_count": 20,
   "metadata": {},
   "outputs": [
    {
     "data": {
      "text/plain": [
       "146228"
      ]
     },
     "execution_count": 20,
     "metadata": {},
     "output_type": "execute_result"
    }
   ],
   "source": [
    "len(cv.get_feature_names())"
   ]
  },
  {
   "cell_type": "code",
   "execution_count": 16,
   "metadata": {
    "scrolled": true
   },
   "outputs": [
    {
     "name": "stdout",
     "output_type": "stream",
     "text": [
      "        occurrences       term  frequency\n",
      "7931          63087    article   0.431429\n",
      "92724         48729       page   0.333240\n",
      "139676        41448  wikipedia   0.283448\n",
      "124123        34331       talk   0.234777\n",
      "133963        27537        use   0.188316\n",
      "37999         26265       edit   0.179617\n",
      "90535         26127        one   0.178673\n",
      "76057         25537       make   0.174638\n",
      "97164         25355     please   0.173394\n",
      "141125        25020      would   0.171103\n",
      "72979         24432       like   0.167082\n",
      "111195        21752        say   0.148754\n",
      "112540        21663        see   0.148145\n",
      "126754        20929      think   0.143126\n",
      "69132         20205       know   0.138175\n",
      "118089        20174     source   0.137963\n",
      "49758         19180        get   0.131165\n",
      "50796         18377         go   0.125674\n",
      "4214          17458       also   0.119389\n",
      "127509        16465       time   0.112598\n",
      "94889         16105     people   0.110136\n",
      "1389          16097        add   0.110082\n",
      "133995        15739       user   0.107633\n",
      "14992         13722      block   0.093840\n",
      "138397        13507       well   0.092369\n",
      "85814         13318       need   0.091077\n",
      "78080         13274        may   0.090776\n",
      "124033        12885       take   0.088116\n",
      "51166         12880       good   0.088082\n",
      "137486        12801       want   0.087541\n",
      "...             ...        ...        ...\n",
      "83438          8085       much   0.055290\n",
      "8396           8051        ask   0.055058\n",
      "24636          7948       come   0.054353\n",
      "104017         7882     really   0.053902\n",
      "106983         7784     revert   0.053232\n",
      "78589          7712       mean   0.052740\n",
      "104097         7504     reason   0.051317\n",
      "18879          7429       call   0.050804\n",
      "115645         7428      since   0.050797\n",
      "38081          7381      edits   0.050476\n",
      "60491          7327    include   0.050107\n",
      "28047          7277     create   0.049765\n",
      "140890         7182       word   0.049115\n",
      "10466          7129       back   0.048753\n",
      "123877         7066        tag   0.048322\n",
      "88237          7060       note   0.048281\n",
      "98414          7058       post   0.048267\n",
      "117649         7011    someone   0.047946\n",
      "97724          6918     policy   0.047310\n",
      "139346         6901       wiki   0.047193\n",
      "71828          6880      leave   0.047050\n",
      "114801         6875       show   0.047016\n",
      "63603          6838      issue   0.046763\n",
      "130792         6795        two   0.046469\n",
      "56041          6758         hi   0.046215\n",
      "120480         6751       stop   0.046168\n",
      "142415         6747       year   0.046140\n",
      "120290         6734      still   0.046051\n",
      "26358          6709    content   0.045880\n",
      "101639         6442        put   0.044054\n",
      "\n",
      "[100 rows x 3 columns]\n"
     ]
    }
   ],
   "source": [
    "cv = CountVectorizer(min_df = 1)\n",
    "ctv = cv.fit_transform(preprocessed_train_data)\n",
    "ctv_freq = pd.DataFrame({'term': cv.get_feature_names(), 'occurrences':np.asarray(ctv.sum(axis=0)).ravel().tolist()})\n",
    "ctv_freq['frequency'] = ctv_freq['occurrences']/ctv_freq.shape[0]\n",
    "print (ctv_freq.sort_values('frequency', ascending = False).head(100))"
   ]
  },
  {
   "cell_type": "code",
   "execution_count": null,
   "metadata": {
    "collapsed": true
   },
   "outputs": [],
   "source": [
    "def plot_coefficients(classifier, feature_names, top_features=20):\n",
    "    coef = classifier.coef_.ravel()\n",
    "    top_positive_coefficients = np.argsort(coef)[-top_features:]\n",
    "    top_negative_coefficients = np.argsort(coef)[:top_features]\n",
    "    top_coefficients = np.hstack([top_negative_coefficients, top_positive_coefficients])\n",
    "    # create plot\n",
    "    plt.figure(figsize=(15, 5))\n",
    "    colors = [‘red’ if c < 0 else ‘blue’ for c in coef[top_coefficients]]\n",
    "    plt.bar(np.arange(2 * top_features), coef[top_coefficients], color=colors)\n",
    "    feature_names = np.array(feature_names)\n",
    "    plt.xticks(np.arange(1, 1 + 2 * top_features), feature_names[top_coefficients], rotation=60, ha=’right’)\n",
    "    plt.show()\n",
    "\n",
    "cv = CountVectorizer()\n",
    "train = cv.fit_transform(preprocessed_train_data)\n",
    "\n",
    "\n",
    "svm = OneVsRestClassifier(LinearSVC(multi_class=\"ovr\")\n",
    "svm.fit(X_train, target)\n",
    "plot_coefficients(svm, cv.get_feature_names())"
   ]
  },
  {
   "cell_type": "code",
   "execution_count": null,
   "metadata": {
    "collapsed": true
   },
   "outputs": [],
   "source": []
  }
 ],
 "metadata": {
  "kernelspec": {
   "display_name": "Python 3",
   "language": "python",
   "name": "python3"
  },
  "language_info": {
   "codemirror_mode": {
    "name": "ipython",
    "version": 3
   },
   "file_extension": ".py",
   "mimetype": "text/x-python",
   "name": "python",
   "nbconvert_exporter": "python",
   "pygments_lexer": "ipython3",
   "version": "3.6.3"
  }
 },
 "nbformat": 4,
 "nbformat_minor": 2
}
